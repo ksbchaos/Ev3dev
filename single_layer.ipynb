{
 "cells": [
  {
   "cell_type": "code",
   "execution_count": 1,
   "metadata": {},
   "outputs": [
    {
     "name": "stdout",
     "output_type": "stream",
     "text": [
      "WARNING:tensorflow:From C:\\Users\\user\\Anaconda3\\envs\\tensorflow\\lib\\site-packages\\tensorflow_core\\python\\compat\\v2_compat.py:88: disable_resource_variables (from tensorflow.python.ops.variable_scope) is deprecated and will be removed in a future version.\n",
      "Instructions for updating:\n",
      "non-resource variables are not supported in the long term\n"
     ]
    }
   ],
   "source": [
    "import numpy as np\n",
    "import tensorflow.compat.v1 as tf\n",
    "tf.disable_v2_behavior()\n",
    "import matplotlib.pyplot as plt"
   ]
  },
  {
   "cell_type": "code",
   "execution_count": 2,
   "metadata": {},
   "outputs": [],
   "source": [
    "NUM_FEATURES = 2\n",
    "NUM_ITER = 2000\n",
    "learning_rate = 0.01"
   ]
  },
  {
   "cell_type": "code",
   "execution_count": null,
   "metadata": {},
   "outputs": [],
   "source": [
    "x = np.array([[0, 0], [1, 0], [1, 1], [0, 1]], np.float32) # 4x2, input\n",
    "y = np.array([0, 0, 1, 0], np.float32) # 4, correct output, AND operation\n",
    "#y = np.array([0, 1, 1, 1], np.float32) # OR operation\n",
    "#y = np.array([0, 1, 0, 1], np.float32) # OR operation \n",
    "W = np.zeros(NUM_FEATURES, np.float32) # 2x1, weight\n",
    "b = np.zeros(1, np.float32) # 1x1\n",
    " \n",
    "N, d = np.shape(x) # number of samples and number of features\n",
    "print(N,d)\n",
    "\n",
    "# process each sample separately\n",
    "for k in range(NUM_ITER):\n",
    "   for j in range(N):\n",
    "     #print(x[j, :])\n",
    "     \n",
    "     yHat_j = x[j, :].dot(W)  # 1x2, 2x1\n",
    "     #print(yHat_j) \n",
    "     if yHat_j>= 1.0:\n",
    "        yHat_j=1.0\n",
    "     else:\n",
    "        yHat_j=0.0\n",
    "     #yHat_j = 1.0 / (1.0 + np.exp(-yHat_j))\n",
    "     #print(yHat_j) \n",
    "     \n",
    "     err = y[j] - yHat_j # error term\n",
    "     #print(err)   \n",
    "     deltaW = err * x[j, :]\n",
    "     #deltaB = err\n",
    "     W = W + learning_rate * deltaW # if err = y - yHat, then W = W + lRate * deltW\n",
    "     #b = b + learning_rate * deltaB\n",
    "\n",
    "# Now plot the fitted line. We need only two points to plot the line\n",
    "plot_x = np.array([np.min(x[:, 0] - 0.2), np.max(x[:, 1]+0.2)])\n",
    "plot_y = - 1 / W[1] * (W[0] * plot_x-1) # comes from, w0*x + w1*y + 0.5 = 0 then y = (-1/w1) (w0*x + b)\n",
    " \n",
    "print('W:' + str(W))\n",
    "print('b:' + str(b))\n",
    "print(x[:, 0])\n",
    "print(x[:, 1])\n",
    "print('plot_y: '+ str(plot_y))\n",
    "plt.scatter(x[:, 0], x[:, 1], c=y, s=100, cmap='viridis')\n",
    "plt.plot(plot_x, plot_y, color='k', linewidth=2)\n",
    "plt.xlim([-0.2, 1.2]); plt.ylim([-0.2, 1.25]);\n",
    "plt.show()\n",
    "for j in range(N):\n",
    "     \n",
    "     \n",
    "     yHat_j = x[j, :].dot(W)  # 1x2, 2x1\n",
    "     if yHat_j>=1.0:\n",
    "        print('1')\n",
    "     else:\n",
    "        print('0')"
   ]
  },
  {
   "cell_type": "code",
   "execution_count": 5,
   "metadata": {},
   "outputs": [
    {
     "name": "stdout",
     "output_type": "stream",
     "text": [
      "W: [2.6895783 2.6895783]\n",
      "b: -4.26431\n",
      "[0. 1. 1. 0.]\n",
      "[0. 0. 1. 1.]\n",
      "plot_y: [1.7854939  0.38549384]\n"
     ]
    },
    {
     "data": {
      "image/png": "[encoded data removed]",
      "text/plain": [
       "<Figure size 432x288 with 1 Axes>"
      ]
     },
     "metadata": {
      "needs_background": "light"
     },
     "output_type": "display_data"
    }
   ],
   "source": [
    "import numpy as np\n",
    "#b=1.0\n",
    "x = np.array([[0, 0], [1, 0], [1, 1], [0, 1]], np.float32) # 4x2, input\n",
    "#y = np.array([0, 0, 1, 0], np.float32) # 4, correct output, AND operation\n",
    "y = np.array([0, 1, 1, 1], np.float32) # OR operation\n",
    "y = np.reshape(y, [4,1]) # convert to 4x1\n",
    " \n",
    "X = tf.placeholder(tf.float32, shape=[4, 2])\n",
    "Y = tf.placeholder(tf.float32, shape=[4, 1])\n",
    " \n",
    "W = tf.Variable(tf.zeros([NUM_FEATURES, 1]), tf.float32)\n",
    "B = tf.Variable(tf.zeros([1, 1]), tf.float32)\n",
    " \n",
    "yHat = tf.sigmoid( tf.add(tf.matmul(X, W), B) ) # 4x1\n",
    "#yHat = tf.add(tf.matmul(X, W), B) \n",
    "err = Y - yHat\n",
    "deltaW = tf.matmul(tf.transpose(X), err ) # have to be 2x1\n",
    "deltaB = tf.reduce_sum(err, 0) # 4, have to 1x1. sum all the biases? yes\n",
    "W_ = W + learning_rate * deltaW\n",
    "B_ = B + learning_rate * deltaB\n",
    " \n",
    "step = tf.group(W.assign(W_), B.assign(B_)) #to update the values of weights and biases.\n",
    " \n",
    "sess = tf.Session()\n",
    "init = tf.global_variables_initializer()\n",
    "sess.run(init)\n",
    " \n",
    "for k in range(NUM_ITER):\n",
    " sess.run([step], feed_dict={X: x, Y: y})\n",
    " \n",
    "W = np.squeeze(sess.run(W))\n",
    "b = np.squeeze(sess.run(B))\n",
    "# Now plot the fitted line. We need only two points to plot the line\n",
    "plot_x = np.array([np.min(x[:, 0] - 0.2), np.max(x[:, 1]+0.2)])\n",
    "plot_y = - 1 / W[1] * (W[0] * plot_x + b)\n",
    "plot_y = np.reshape(plot_y, [2, -1])\n",
    "plot_y = np.squeeze(plot_y)\n",
    " \n",
    "print('W: ' + str(W))\n",
    "print('b: ' + str(b))\n",
    "print(x[:, 0])\n",
    "print(x[:, 1])\n",
    "print('plot_y: '+ str(plot_y))\n",
    " \n",
    "plt.scatter(x[:, 0], x[:, 1], c='y', s=100, cmap='viridis')\n",
    "plt.plot(plot_x, plot_y, color='k', linewidth=2)\n",
    "plt.xlim([-0.2, 1.2]); plt.ylim([-0.2, 1.25]);\n",
    "plt.show()"
   ]
  },
  {
   "cell_type": "code",
   "execution_count": null,
   "metadata": {},
   "outputs": [],
   "source": [
    "print(sess.run(result))"
   ]
  },
  {
   "cell_type": "code",
   "execution_count": null,
   "metadata": {},
   "outputs": [],
   "source": [
    "!git clone -b 1.2.0-cp27 https://github.com/Jpub/TensorflowDeeplearning"
   ]
  },
  {
   "cell_type": "code",
   "execution_count": null,
   "metadata": {},
   "outputs": [],
   "source": []
  }
 ],
 "metadata": {
  "kernelspec": {
   "display_name": "Python 3",
   "language": "python",
   "name": "python3"
  },
  "language_info": {
   "codemirror_mode": {
    "name": "ipython",
    "version": 3
   },
   "file_extension": ".py",
   "mimetype": "text/x-python",
   "name": "python",
   "nbconvert_exporter": "python",
   "pygments_lexer": "ipython3",
   "version": "3.7.7"
  }
 },
 "nbformat": 4,
 "nbformat_minor": 4
}
