{
 "cells": [
  {
   "cell_type": "markdown",
   "metadata": {},
   "source": [
    "#### [학습에 필요한 모듈 선언]"
   ]
  },
  {
   "cell_type": "code",
   "execution_count": 1,
   "metadata": {},
   "outputs": [
    {
     "name": "stdout",
     "output_type": "stream",
     "text": [
      "WARNING:tensorflow:From C:\\Users\\user\\Anaconda3\\envs\\tensorflow\\lib\\site-packages\\tensorflow_core\\python\\compat\\v2_compat.py:88: disable_resource_variables (from tensorflow.python.ops.variable_scope) is deprecated and will be removed in a future version.\n",
      "Instructions for updating:\n",
      "non-resource variables are not supported in the long term\n"
     ]
    },
    {
     "ename": "ModuleNotFoundError",
     "evalue": "No module named 'seaborn'",
     "output_type": "error",
     "traceback": [
      "\u001b[1;31m---------------------------------------------------------------------------\u001b[0m",
      "\u001b[1;31mModuleNotFoundError\u001b[0m                       Traceback (most recent call last)",
      "\u001b[1;32m<ipython-input-1-73da14e07085>\u001b[0m in \u001b[0;36m<module>\u001b[1;34m\u001b[0m\n\u001b[0;32m      5\u001b[0m \u001b[0mget_ipython\u001b[0m\u001b[1;33m(\u001b[0m\u001b[1;33m)\u001b[0m\u001b[1;33m.\u001b[0m\u001b[0mrun_line_magic\u001b[0m\u001b[1;33m(\u001b[0m\u001b[1;34m'matplotlib'\u001b[0m\u001b[1;33m,\u001b[0m \u001b[1;34m'inline'\u001b[0m\u001b[1;33m)\u001b[0m\u001b[1;33m\u001b[0m\u001b[1;33m\u001b[0m\u001b[0m\n\u001b[0;32m      6\u001b[0m \u001b[1;32mimport\u001b[0m \u001b[0mmatplotlib\u001b[0m\u001b[1;33m.\u001b[0m\u001b[0mpyplot\u001b[0m \u001b[1;32mas\u001b[0m \u001b[0mplt\u001b[0m\u001b[1;33m\u001b[0m\u001b[1;33m\u001b[0m\u001b[0m\n\u001b[1;32m----> 7\u001b[1;33m \u001b[1;32mimport\u001b[0m \u001b[0mseaborn\u001b[0m \u001b[1;32mas\u001b[0m \u001b[0msns\u001b[0m\u001b[1;33m\u001b[0m\u001b[1;33m\u001b[0m\u001b[0m\n\u001b[0m\u001b[0;32m      8\u001b[0m \u001b[1;32mimport\u001b[0m \u001b[0mos\u001b[0m\u001b[1;33m\u001b[0m\u001b[1;33m\u001b[0m\u001b[0m\n\u001b[0;32m      9\u001b[0m \u001b[1;31m# requests import error 발생시  pip install requests 로 설치\u001b[0m\u001b[1;33m\u001b[0m\u001b[1;33m\u001b[0m\u001b[1;33m\u001b[0m\u001b[0m\n",
      "\u001b[1;31mModuleNotFoundError\u001b[0m: No module named 'seaborn'"
     ]
    }
   ],
   "source": [
    "import tensorflow.compat.v1 as tf\n",
    "tf.disable_v2_behavior()\n",
    "import pandas as pd\n",
    "from sklearn.utils import shuffle\n",
    "%matplotlib inline\n",
    "import matplotlib.pyplot as plt\n",
    "import seaborn as sns\n",
    "import os\n",
    "# requests import error 발생시  pip install requests 로 설치\n",
    "import requests"
   ]
  },
  {
   "cell_type": "markdown",
   "metadata": {},
   "source": [
    "#### [환경설정]"
   ]
  },
  {
   "cell_type": "code",
   "execution_count": null,
   "metadata": {},
   "outputs": [],
   "source": [
    "# 학습 데이터(훈련/테스트) 비율\n",
    "trainDataRate = 0.7\n",
    "# 학습률\n",
    "learningRate = 0.01\n",
    "# 총 학습 횟수\n",
    "totalStep = 10001\n",
    "# 데이터 섞기\n",
    "shuffleOn = True\n",
    "# 학습 데이터 파일명 지정\n",
    "fileName = \"IrisData.csv\"\n",
    "# 학습 데이터 경로 지정\n",
    "currentFolderPath = os.getcwd()\n",
    "dataSetFolderPath = os.path.join(currentFolderPath, 'dataset')\n",
    "datasetFilePath = os.path.join(dataSetFolderPath, fileName)"
   ]
  },
  {
   "cell_type": "markdown",
   "metadata": {},
   "source": [
    "#### [빌드단계] Step 1) 학습 데이터 준비"
   ]
  },
  {
   "cell_type": "code",
   "execution_count": 2,
   "metadata": {},
   "outputs": [
    {
     "ename": "NameError",
     "evalue": "name 'os' is not defined",
     "output_type": "error",
     "traceback": [
      "\u001b[1;31m---------------------------------------------------------------------------\u001b[0m",
      "\u001b[1;31mNameError\u001b[0m                                 Traceback (most recent call last)",
      "\u001b[1;32m<ipython-input-2-2031a5b832ca>\u001b[0m in \u001b[0;36m<module>\u001b[1;34m\u001b[0m\n\u001b[0;32m      1\u001b[0m \u001b[1;31m### (1) 데이터 읽어오기\u001b[0m\u001b[1;33m\u001b[0m\u001b[1;33m\u001b[0m\u001b[1;33m\u001b[0m\u001b[0m\n\u001b[0;32m      2\u001b[0m \u001b[1;31m# 해당 경로에 학습 데이터가 없으면 다운로드\u001b[0m\u001b[1;33m\u001b[0m\u001b[1;33m\u001b[0m\u001b[1;33m\u001b[0m\u001b[0m\n\u001b[1;32m----> 3\u001b[1;33m \u001b[1;32mif\u001b[0m \u001b[0mos\u001b[0m\u001b[1;33m.\u001b[0m\u001b[0mpath\u001b[0m\u001b[1;33m.\u001b[0m\u001b[0mexists\u001b[0m\u001b[1;33m(\u001b[0m\u001b[0mdatasetFilePath\u001b[0m\u001b[1;33m)\u001b[0m \u001b[1;32mis\u001b[0m \u001b[1;32mnot\u001b[0m \u001b[1;32mTrue\u001b[0m\u001b[1;33m:\u001b[0m\u001b[1;33m\u001b[0m\u001b[1;33m\u001b[0m\u001b[0m\n\u001b[0m\u001b[0;32m      4\u001b[0m     \u001b[0mprint\u001b[0m\u001b[1;33m(\u001b[0m\u001b[1;34m\"#===== Download Iris Data =====#\"\u001b[0m\u001b[1;33m)\u001b[0m\u001b[1;33m\u001b[0m\u001b[1;33m\u001b[0m\u001b[0m\n\u001b[0;32m      5\u001b[0m     \u001b[1;31m# iris 데이터 셋 다운로드\u001b[0m\u001b[1;33m\u001b[0m\u001b[1;33m\u001b[0m\u001b[1;33m\u001b[0m\u001b[0m\n",
      "\u001b[1;31mNameError\u001b[0m: name 'os' is not defined"
     ]
    }
   ],
   "source": [
    "### (1) 데이터 읽어오기\n",
    "# 해당 경로에 학습 데이터가 없으면 다운로드\n",
    "if os.path.exists(datasetFilePath) is not True:\n",
    "    print(\"#===== Download Iris Data =====#\")\n",
    "    # iris 데이터 셋 다운로드\n",
    "    url = \"https://archive.ics.uci.edu/ml/machine-learning-databases/iris/iris.data\"\n",
    "    req = requests.get(url, allow_redirects = True)\n",
    "    # 학습데이터 저장\n",
    "    open(datasetFilePath, \"wb\").write(req.content)\n",
    "    print(\"#===== Download Completed =====#\")\n",
    "\n",
    "# pandas를 이용하여 CSV 파일 데이터 읽기\n",
    "allColumnName = [\"sepalLength\",\"sepalWidth\",\"petalLength\",\"petalWidth\",\"species\"]\n",
    "# column이 없는 데이터라서 파일을 읽어올때 header 를 생성하지 않고 column을 추가\n",
    "if shuffleOn :\n",
    "    df = shuffle(pd.read_csv(datasetFilePath, header = None, names = allColumnName))\n",
    "else :\n",
    "    df = pd.read_csv(datasetFilePath, header = None, names = allColumnName)\n",
    "\n",
    "\n",
    "# 학습 데이터 확인\n",
    "print(\"===== Data =====>\")\n",
    "print(df.head())\n",
    "print(df.tail())\n",
    "# 학습 데이터 shape 확인\n",
    "print(\"Shape : {}\".format(df.shape))\n",
    "# 학습 데이터 결과 갯수 확인\n",
    "print(\"Specis : \\n{}\".format(df[\"species\"].value_counts()))\n",
    "\n",
    "\n",
    "# 학습 데이터 전체 그래프\n",
    "sns.pairplot(df, hue=\"species\", height = 2)\n",
    "plt.show()\n"
   ]
  },
  {
   "cell_type": "code",
   "execution_count": null,
   "metadata": {},
   "outputs": [],
   "source": [
    "### (2) 범주형 데이터 맴핑 선언\n",
    "# species 를 3가지 종류로 나눈 dataframe 으로 변환\n",
    "df_one_hot_encoded = pd.get_dummies(df)\n",
    "\n",
    "print(\"===== after mapping =====>\")\n",
    "print(df_one_hot_encoded.head())\n",
    "print(df_one_hot_encoded.tail())\n"
   ]
  },
  {
   "cell_type": "code",
   "execution_count": null,
   "metadata": {},
   "outputs": [],
   "source": [
    "### (3) 훈련, 테스트 데이터 나누기\n",
    "# 학습 데이터 리스트로 변환\n",
    "# 훈련 데이터를 정해진 비율만큼 추출\n",
    "df_trainData = df_one_hot_encoded.sample(frac = trainDataRate)\n",
    "\n",
    "# 훈련 데이터를 제거한 나머지 데이터를 테스트 테이터로 지정\n",
    "df_testData = df_one_hot_encoded.drop(df_trainData.index)\n",
    "\n",
    "# 학습데이터와 결과데이터의 컬럼 선언\n",
    "featureColumnName = [\"sepalLength\",\"sepalWidth\",\"petalLength\",\"petalWidth\"]\n",
    "resultColumnName = ['species_Iris-setosa','species_Iris-versicolor','species_Iris-virginica']\n",
    "# 학습데이터 선언\n",
    "xTrainDataList = df_trainData.filter(featureColumnName)\n",
    "yTrainDataList = df_trainData.filter(resultColumnName)\n",
    "# 테스트 데이터 선언\n",
    "xTestDataList = df_testData.filter(featureColumnName)\n",
    "yTestDataList = df_testData.filter(resultColumnName)\n",
    "\n",
    "print(\"[TrainData Size] x : {}, y :{}\".format(len(xTrainDataList),len(yTrainDataList)))\n",
    "print(\"[TestData Size] x : {}, y :{}\".format(len(xTestDataList),len(yTestDataList)))"
   ]
  },
  {
   "cell_type": "markdown",
   "metadata": {},
   "source": [
    "#### [빌드단계] Step 2) 모델 생성을 위한 변수 초기화"
   ]
  },
  {
   "cell_type": "code",
   "execution_count": null,
   "metadata": {},
   "outputs": [],
   "source": [
    "# feature 로 사용할 데이터 갯수\n",
    "feature_num = len(featureColumnName)\n",
    "# result 로 사용할 종류 갯수\n",
    "result_num = len(resultColumnName)\n",
    "\n",
    "# 학습데이터가 들어갈 플레이스 홀더 선언\n",
    "X = tf.placeholder(tf.float32, shape = [None, feature_num])\n",
    "# 학습데이터가 들어갈 플레이스 홀더 선언\n",
    "Y = tf.placeholder(tf.float32, shape = [None, result_num])\n",
    "\n",
    "\n",
    "# Weight 변수 선언\n",
    "W = tf.Variable(tf.zeros([feature_num, result_num]))\n",
    "# Bias 변수 선언\n",
    "b = tf.Variable(tf.zeros([result_num]))"
   ]
  },
  {
   "cell_type": "markdown",
   "metadata": {},
   "source": [
    "#### [빌드단계] 3) 학습 모델 그래프 구성"
   ]
  },
  {
   "cell_type": "code",
   "execution_count": null,
   "metadata": {},
   "outputs": [],
   "source": [
    "# 3-1) 학습데이터를 대표 하는 가설 그래프 선언\n",
    "hypothesis = tf.nn.softmax(tf.matmul(X, W) + b)\n",
    "\n",
    "# 3-2) 비용함수(오차함수,손실함수) 선언\n",
    "costFunction = tf.reduce_mean(-tf.reduce_sum(Y * tf.log(hypothesis), axis=1))\n",
    "\n",
    "# 3-3) 비용함수의 값이 최소가 되도록 하는 최적화함수 선언\n",
    "optimizer = tf.train.GradientDescentOptimizer(learning_rate=learningRate)\n",
    "train = optimizer.minimize(costFunction)"
   ]
  },
  {
   "cell_type": "markdown",
   "metadata": {},
   "source": [
    "#### [실행단계] 학습 모델 그래프를 실행"
   ]
  },
  {
   "cell_type": "code",
   "execution_count": null,
   "metadata": {},
   "outputs": [],
   "source": [
    "# 실행을 위한 세션 선언\n",
    "sess = tf.Session()\n",
    "# 최적화 과정을 통하여 구해질 변수 W,b 초기화\n",
    "sess.run(tf.global_variables_initializer())\n",
    "\n",
    "# 예측값, 정확도 수식 선언\n",
    "predicted = tf.equal(tf.argmax(hypothesis, axis = 1), tf.argmax(Y, axis =1))\n",
    "accuracy = tf.reduce_mean(tf.cast(predicted, tf.float32))\n",
    "\n",
    "# 학습, 테스트 정확도를 저장할 리스트 선언\n",
    "train_accuracy = list()\n",
    "\n",
    "\n",
    "print(\"--------------------------------------------------------------------------------\")\n",
    "print(\"Train(Optimization) Start \")\n",
    "\n",
    "for step in range(totalStep):\n",
    "    # X, Y에 학습데이터 입력하여 비용함수, W, b, accuracy, train을 실행\n",
    "    cost_val, W_val, b_val, acc_val, _ = sess.run([costFunction, W, b, accuracy, train],\n",
    "                                            feed_dict = {X: xTrainDataList, Y: yTrainDataList})\n",
    "    train_accuracy.append(acc_val)\n",
    "\n",
    "    if step % 1000 == 0:\n",
    "        print(\"step : {}. cost : {}, accuracy : {}\"\n",
    "              .format(step, cost_val, acc_val))\n",
    "\n",
    "    if step == totalStep-1 :\n",
    "        print(\"W : {}\\nb:{}\".format(W_val, b_val))\n",
    "\n",
    "\n",
    "# matplotlib 를 이용하여 결과를 시각화\n",
    "# 정확도 결과 확인 그래프\n",
    "plt.plot(range(len(train_accuracy)), train_accuracy, linewidth = 2, label = 'Training')\n",
    "plt.legend()\n",
    "plt.title(\"Train Accuracy Result\")\n",
    "plt.show()\n",
    "\n",
    "\n",
    "print(\"Train Finished\")\n",
    "print(\"--------------------------------------------------------------------------------\")\n",
    "print(\"[Test Result]\")\n",
    "# 최적화가 끝난 학습 모델 테스트\n",
    "h_val, p_val, a_val = sess.run([hypothesis, predicted, accuracy],\n",
    "                    feed_dict={X: xTestDataList, Y: yTestDataList})\n",
    "print(\"\\nHypothesis : {} \\nPrediction : {} \\nAccuracy : {}\".format(h_val,p_val,a_val))\n",
    "print(\"--------------------------------------------------------------------------------\")\n",
    "\n",
    "#세션종료\n",
    "sess.close()"
   ]
  },
  {
   "cell_type": "code",
   "execution_count": null,
   "metadata": {},
   "outputs": [],
   "source": []
  }
 ],
 "metadata": {
  "kernelspec": {
   "display_name": "Python 3",
   "language": "python",
   "name": "python3"
  },
  "language_info": {
   "codemirror_mode": {
    "name": "ipython",
    "version": 3
   },
   "file_extension": ".py",
   "mimetype": "text/x-python",
   "name": "python",
   "nbconvert_exporter": "python",
   "pygments_lexer": "ipython3",
   "version": "3.7.7"
  }
 },
 "nbformat": 4,
 "nbformat_minor": 2
}
